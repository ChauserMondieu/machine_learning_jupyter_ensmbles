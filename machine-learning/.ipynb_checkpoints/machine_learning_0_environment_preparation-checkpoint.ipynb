{
 "cells": [
  {
   "cell_type": "markdown",
   "id": "2c2d5e7b",
   "metadata": {},
   "source": [
    "# 环境准备\n",
    "## Anaconda-Conda环境\n",
    "下载并安装Conda虚拟环境管理工具，所有新创建的虚拟环境都会安装在 ``/conda/envs``文件夹下\n",
    "1. 创建新环境\n",
    "<br>``conda create -n 环境名称 python=python版本``\n",
    "2. 激活当前环境\n",
    "<br>``conda activate 环境名称``\n",
    "3. 查看当前所有环境\n",
    "<br>``conda envs list`` 或者通过Anaconda Navigator进行查看\n",
    "4. 退出当前环境 \n",
    "<br>``conda deactivate``\n",
    "\n",
    "## Jupyter Notebook环境\n",
    "需要注意的是，Jupyter Notebook需要在<font color=red>所有虚拟环境中</font>进行安装与启动，这样才不会产生依赖问题\n",
    "1. 安装Jupyter notebook\n",
    "<br>``pip install notebook``\n",
    "2. 查看所有安装的依赖包\n",
    "<br>``pip list``\n",
    "3. 安装scikit-learn包\n",
    "<br>``pip install scikit-learn==0.23`` <br>注意版本依赖：python3.6后为0.23；python3.5-3.8为0.22\n",
    "4. 安装ipykernel控件以便切换kernel\n",
    "<br>``pip install ipykernel``\n",
    "5. 在当前虚拟环境中注册kernel\n",
    "<br>``python -m ipykernel install --name 环境名称``\n",
    "\n",
    "## Jupyter Note存储路径\n",
    "如果是第一次使用Notebook，需要\n",
    "1. 首先生成配置文件，生成后会直接显示在cmd上\n",
    "<br>``jupyter notebook --generate-config``\n",
    "2. 找到 #c.NotebookApp.notebook_dir = ''，取消注释后添加绝对路径名称，这将是未来所有notebook存储的根路径\n",
    "\n",
    "## Jupyter Notebook对所有kernel的操作\n",
    "1. 添加新kernel\n",
    "<br>``python -m ipykernel install --name 环境名称``\n",
    "2. 移除已有kernel\n",
    "<br>``jupyter kernelspec remove kernelname``\n",
    "3. 查看所有注册的kernel\n",
    "</br>``jupyter kernelspec list``\n",
    "\n",
    "## sklearn包安装官网\n",
    "https://scikit-learn.org/stable/install.html"
   ]
  },
  {
   "cell_type": "code",
   "execution_count": null,
   "id": "504b058a",
   "metadata": {},
   "outputs": [],
   "source": []
  }
 ],
 "metadata": {
  "kernelspec": {
   "display_name": "python3.6",
   "language": "python",
   "name": "python3.6"
  },
  "language_info": {
   "codemirror_mode": {
    "name": "ipython",
    "version": 3
   },
   "file_extension": ".py",
   "mimetype": "text/x-python",
   "name": "python",
   "nbconvert_exporter": "python",
   "pygments_lexer": "ipython3",
   "version": "3.6.13"
  }
 },
 "nbformat": 4,
 "nbformat_minor": 5
}
